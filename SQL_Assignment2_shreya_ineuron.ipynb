{
 "cells": [
  {
   "cell_type": "markdown",
   "id": "483c7f4b",
   "metadata": {},
   "source": [
    "**Q-1. Write an SQL query to print the first three characters of  FIRST_NAME from Worker table.**"
   ]
  },
  {
   "cell_type": "markdown",
   "id": "b0c638c4",
   "metadata": {},
   "source": [
    "Select SUBSTRING(FIRST_NAME, 1, 3) from Worker;"
   ]
  },
  {
   "cell_type": "markdown",
   "id": "9f0c21d8",
   "metadata": {},
   "source": [
    "**Q-2. Write an SQL query to find the position of the alphabet (‘a’) in the first name column ‘Amitabh’ from Worker table.**"
   ]
  },
  {
   "cell_type": "markdown",
   "id": "d219a183",
   "metadata": {},
   "source": [
    "Select INSTR(FIRST_NAME, \"a\") from Worker where FIRST_NAME = \"Amitabh\";"
   ]
  },
  {
   "cell_type": "markdown",
   "id": "9610a16c",
   "metadata": {},
   "source": [
    "**Q-3. Write an SQL query to print the name of employees having the highest salary in each department.**"
   ]
  },
  {
   "cell_type": "markdown",
   "id": "cc94f496",
   "metadata": {},
   "source": [
    "Select FIRST_NAME, LAST_NAME, salary from worker where salary in (select max(salary) from worker group by department);"
   ]
  }
 ],
 "metadata": {
  "kernelspec": {
   "display_name": "Python 3 (ipykernel)",
   "language": "python",
   "name": "python3"
  },
  "language_info": {
   "codemirror_mode": {
    "name": "ipython",
    "version": 3
   },
   "file_extension": ".py",
   "mimetype": "text/x-python",
   "name": "python",
   "nbconvert_exporter": "python",
   "pygments_lexer": "ipython3",
   "version": "3.9.7"
  }
 },
 "nbformat": 4,
 "nbformat_minor": 5
}
